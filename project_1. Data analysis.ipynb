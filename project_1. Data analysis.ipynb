{
 "cells": [
  {
   "cell_type": "markdown",
   "id": "b24a3bc7",
   "metadata": {},
   "source": [
    "## Проект 1. Анализ данных\n",
    "\n",
    "Используя синтаксис python произвести расчеты"
   ]
  },
  {
   "cell_type": "markdown",
   "id": "fe913e65",
   "metadata": {},
   "source": [
    "### Задача\n",
    "Написать функцию , которая на вход принимает любое количество названий фруктов и их количество, а возвращает общее количество фруктов на складе"
   ]
  },
  {
   "cell_type": "code",
   "execution_count": 9,
   "id": "7720174d",
   "metadata": {},
   "outputs": [
    {
     "data": {
      "text/plain": [
       "'Количество фруктов: 28 шт.'"
      ]
     },
     "execution_count": 9,
     "metadata": {},
     "output_type": "execute_result"
    }
   ],
   "source": [
    "def fruits(**fruits):\n",
    "    total=0\n",
    "    for amount in fruits.values():\n",
    "        total += amount\n",
    "    return (f'Количество фруктов: {total} шт.')\n",
    "\n",
    "fruits(ананас=7, груша=9, яблоко=7, киви=5)"
   ]
  },
  {
   "cell_type": "markdown",
   "id": "d5e71c5e",
   "metadata": {},
   "source": [
    "### Задача\n",
    "Дан список с затратами на рекламу. Но в данных есть ошибки, некоторые затраты имеют отрицательную величину. Используя list comprehensions удалить такие значения из списка и посчитать суммарные затраты [100, 125, -90, 345, 655, -1, 0, 200] "
   ]
  },
  {
   "cell_type": "code",
   "execution_count": 10,
   "id": "b9fc8cb3",
   "metadata": {},
   "outputs": [],
   "source": [
    "zatraty =  [100, 125, -90, 345, 655, -1, 0, 200]"
   ]
  },
  {
   "cell_type": "code",
   "execution_count": 11,
   "id": "a6d13694",
   "metadata": {},
   "outputs": [
    {
     "data": {
      "text/plain": [
       "1425"
      ]
     },
     "execution_count": 11,
     "metadata": {},
     "output_type": "execute_result"
    }
   ],
   "source": [
    "ansver = [i if i > 0 else 0 for i in zatraty]\n",
    "sum(ansver)"
   ]
  },
  {
   "cell_type": "markdown",
   "id": "330e1cc2",
   "metadata": {},
   "source": [
    "### Задача\n",
    "Даны два списка с данными о покупке и датами, какая выручка у компании в ноябре?"
   ]
  },
  {
   "cell_type": "code",
   "execution_count": 12,
   "id": "0e2b4547",
   "metadata": {},
   "outputs": [],
   "source": [
    "date = ['2021-09-14', '2021-12-15', '2021-09-08', '2021-12-05', '2021-10-09', '2021-09-30', '2021-12-22',\n",
    "        '2021-11-29', '2021-12-24', '2021-11-26', '2021-10-27', '2021-12-18', '2021-11-09', '2021-11-23',\n",
    "        '2021-09-27', '2021-10-02', '2021-12-27', '2021-09-20', '2021-12-13', '2021-11-01', '2021-11-09',\n",
    "        '2021-12-06', '2021-12-08', '2021-10-09', '2021-10-31', '2021-09-30', '2021-11-09', '2021-12-13',\n",
    "        '2021-10-26', '2021-12-09'] \n",
    "sum_for_date = [1270, 8413, 9028, 3703, 5739, 4095, 295, 4944, 5723, 3701, 4471, 651, 7037, 4274, 6275,\n",
    "                4988, 6930, 2971, 6592, 2004, 2822, 519, 3406, 2732, 5015, 2008, 316, 6333, 5700, 2887]"
   ]
  },
  {
   "cell_type": "code",
   "execution_count": 13,
   "id": "1808ea84",
   "metadata": {},
   "outputs": [],
   "source": [
    "sales = {}"
   ]
  },
  {
   "cell_type": "code",
   "execution_count": 14,
   "id": "3634c6df",
   "metadata": {},
   "outputs": [
    {
     "data": {
      "text/plain": [
       "{'2021-09-14': 1270,\n",
       " '2021-12-15': 8413,\n",
       " '2021-09-08': 9028,\n",
       " '2021-12-05': 3703,\n",
       " '2021-10-09': 2732,\n",
       " '2021-09-30': 2008,\n",
       " '2021-12-22': 295,\n",
       " '2021-11-29': 4944,\n",
       " '2021-12-24': 5723,\n",
       " '2021-11-26': 3701,\n",
       " '2021-10-27': 4471,\n",
       " '2021-12-18': 651,\n",
       " '2021-11-09': 316,\n",
       " '2021-11-23': 4274,\n",
       " '2021-09-27': 6275,\n",
       " '2021-10-02': 4988,\n",
       " '2021-12-27': 6930,\n",
       " '2021-09-20': 2971,\n",
       " '2021-12-13': 6333,\n",
       " '2021-11-01': 2004,\n",
       " '2021-12-06': 519,\n",
       " '2021-12-08': 3406,\n",
       " '2021-10-31': 5015,\n",
       " '2021-10-26': 5700,\n",
       " '2021-12-09': 2887}"
      ]
     },
     "execution_count": 14,
     "metadata": {},
     "output_type": "execute_result"
    }
   ],
   "source": [
    "for i in range (len(date)):\n",
    "    sales[date[i]] = sum_for_date[i]\n",
    "sales"
   ]
  },
  {
   "cell_type": "code",
   "execution_count": 15,
   "id": "30b49473",
   "metadata": {},
   "outputs": [
    {
     "data": {
      "text/plain": [
       "15239"
      ]
     },
     "execution_count": 15,
     "metadata": {},
     "output_type": "execute_result"
    }
   ],
   "source": [
    "# Выручка компании за ноябрь\n",
    "dict_filter = {}\n",
    "for k, v in sales.items():\n",
    "    if k.split('-')[1] == '11':\n",
    "        # добавляем в новый словарь\n",
    "        dict_filter[k] = v\n",
    "        total = sum(dict_filter.values())\n",
    "total"
   ]
  },
  {
   "cell_type": "code",
   "execution_count": null,
   "id": "c620b437",
   "metadata": {},
   "outputs": [],
   "source": []
  }
 ],
 "metadata": {
  "kernelspec": {
   "display_name": "Python 3 (ipykernel)",
   "language": "python",
   "name": "python3"
  },
  "language_info": {
   "codemirror_mode": {
    "name": "ipython",
    "version": 3
   },
   "file_extension": ".py",
   "mimetype": "text/x-python",
   "name": "python",
   "nbconvert_exporter": "python",
   "pygments_lexer": "ipython3",
   "version": "3.9.12"
  }
 },
 "nbformat": 4,
 "nbformat_minor": 5
}
